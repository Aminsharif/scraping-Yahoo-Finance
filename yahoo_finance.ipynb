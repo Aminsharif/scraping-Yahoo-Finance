{
 "cells": [
  {
   "cell_type": "code",
   "execution_count": 1,
   "metadata": {},
   "outputs": [],
   "source": [
    "import re\n",
    "import json\n",
    "import csv\n",
    "from io import StringIO\n",
    "from bs4 import BeautifulSoup\n",
    "import requests"
   ]
  },
  {
   "cell_type": "code",
   "execution_count": 2,
   "metadata": {},
   "outputs": [],
   "source": [
    "# url templates\n",
    "url_stats = 'https://finance.yahoo.com/quote/{}/key-statistics?p={}'\n",
    "url_profile = 'https://finance.yahoo.com/quote/{}/profile?p={}'\n",
    "url_financials = 'https://finance.yahoo.com/quote/{}/financials?p={}'\n",
    "url_financials_balance = 'https://finance.yahoo.com/quote/{}/balance-sheet?p={}'\n",
    "url_financials_cashflow = 'https://finance.yahoo.com/quote/{}/cash-flow?p={}'\n",
    "\n",
    "# the stock I want to scrape\n",
    "stock = 'F'"
   ]
  },
  {
   "cell_type": "code",
   "execution_count": 3,
   "metadata": {},
   "outputs": [],
   "source": [
    "headers = {\n",
    "    \"User-Agent\": \"Mozilla/5.0 (Windows NT 10.0; Win64; x64) AppleWebKit/537.36 (KHTML, like Gecko) Chrome/89.0.4389.82 Safari/537.36\"\n",
    "}"
   ]
  },
  {
   "cell_type": "code",
   "execution_count": 5,
   "metadata": {},
   "outputs": [
    {
     "name": "stdout",
     "output_type": "stream",
     "text": [
      "200\n"
     ]
    }
   ],
   "source": [
    "response = requests.get(url_profile.format(stock, stock),headers=headers)\n",
    "print(response.status_code)\n",
    "soup = BeautifulSoup(response.text, 'html.parser')\n",
    "\n",
    "table = soup.find('table', {'class': 'yf-mj92za'})\n",
    "\n",
    "headers = [header.get_text(strip=True) for header in table.find_all('th')]\n",
    "\n",
    "rows=[]\n",
    "\n",
    "for row in table.find_all('tr')[1:]:\n",
    "    columns = row.find_all('td')\n",
    "    \n",
    "    if len(columns)>0:\n",
    "        data ={\n",
    "            headers[0]: columns[0].get_text(strip=True),\n",
    "            headers[1]: columns[1].get_text(strip=True),\n",
    "            headers[2]: columns[2].get_text(strip=True),\n",
    "            headers[3]: columns[3].get_text(strip=True),\n",
    "            headers[4]: columns[4].get_text(strip=True)\n",
    "        }\n",
    "        rows.append(data)"
   ]
  },
  {
   "cell_type": "code",
   "execution_count": 6,
   "metadata": {},
   "outputs": [
    {
     "name": "stdout",
     "output_type": "stream",
     "text": [
      "{'Name': 'Mr. William Clay Ford Jr.', 'Title': 'Executive Chairman', 'Pay': '4.61M', 'Exercised': '--', 'Year Born': '1957'}\n",
      "{'Name': 'Mr. James Duncan Farley Jr.', 'Title': 'President, CEO & Director', 'Pay': '6.14M', 'Exercised': '8.85k', 'Year Born': '1962'}\n",
      "{'Name': 'Mr. John T. Lawler', 'Title': 'Vice Chair & CFO', 'Pay': '2.74M', 'Exercised': '9.41k', 'Year Born': '1966'}\n",
      "{'Name': 'Mr. John Douglas Field', 'Title': 'Chief Advanced Product Development & Technology Officer', 'Pay': '1.17M', 'Exercised': '--', 'Year Born': '1966'}\n",
      "{'Name': 'Mr. Ashwani Kumar Galhotra', 'Title': 'Chief Operating Officer', 'Pay': '2.16M', 'Exercised': '170.59k', 'Year Born': '1965'}\n",
      "{'Name': 'Mr. Mark  Kosman', 'Title': 'Chief Accounting Officer', 'Pay': '--', 'Exercised': '--', 'Year Born': '1965'}\n",
      "{'Name': 'Ms. Lynn Antipas Tyson', 'Title': 'Executive Director of Investor Relations', 'Pay': '--', 'Exercised': '--', 'Year Born': '1963'}\n",
      "{'Name': 'Mr. Steven P. Croley', 'Title': 'Chief Policy Officer & General Counsel', 'Pay': '--', 'Exercised': '--', 'Year Born': '1966'}\n",
      "{'Name': 'Ms. Beth A. Rose', 'Title': 'Chief Compliance, Ethics & Integrity Officer', 'Pay': '--', 'Exercised': '--', 'Year Born': '--'}\n",
      "{'Name': 'Mr. Mark  Truby', 'Title': 'Chief Communications Officer', 'Pay': '--', 'Exercised': '--', 'Year Born': '1970'}\n"
     ]
    }
   ],
   "source": [
    "for row in rows:\n",
    "    print(row)"
   ]
  },
  {
   "cell_type": "markdown",
   "metadata": {},
   "source": [
    "Finance Income sheet"
   ]
  },
  {
   "cell_type": "code",
   "execution_count": null,
   "metadata": {},
   "outputs": [],
   "source": [
    "response1 = requests.get(url_financials.format(stock, stock),headers=headers)\n",
    "print(response1.status_code)\n",
    "soup = BeautifulSoup(response1.text, 'html.parser')\n",
    "table = soup.find('div', {'class': 'tableBody yf-9ft13'})\n",
    "\n",
    "row = soup.find('div', {'class': 'row yf-1yyu1pc'})\n",
    "header = [div.get_text(strip=True) for div in row.find_all('div')]\n",
    "\n",
    "data = []\n",
    "for row in table.find_all('div', {'class': 'row lv-0 yf-t22klz'}):\n",
    "    row_data = {}\n",
    "    columns1 = row.find_all('div', {'class': 'column yf-t22klz'})\n",
    "\n",
    "    columns2 = row.find_all('div', {'class': 'column yf-t22klz alt'})\n",
    "\n",
    "    columns = columns1 + columns2\n",
    "    \n",
    "    # Extract the text for each row\n",
    "    row_data[header[0]] = row.find('div', {'class': 'rowTitle yf-t22klz'}).get_text(strip=True)\n",
    "    for i, column in enumerate(columns):\n",
    "        row_data[header[i+1]] = column.get_text(strip=True)\n",
    "    \n",
    "    data.append(row_data)"
   ]
  },
  {
   "cell_type": "code",
   "execution_count": 5,
   "metadata": {},
   "outputs": [
    {
     "name": "stdout",
     "output_type": "stream",
     "text": [
      "{'Breakdown': 'Total Revenue', 'TTM': '176,191,000.00', '12/31/2023': '136,341,000.00', '12/31/2022': '182,743,000.00', '12/31/2021': '158,057,000.00', '12/31/2020': '127,144,000.00'}\n",
      "{'Breakdown': 'Cost of Revenue', 'TTM': '160,031,000.00', '12/31/2023': '119,903,000.00', '12/31/2022': '168,715,000.00', '12/31/2021': '140,893,000.00', '12/31/2020': '121,359,000.00'}\n",
      "{'Breakdown': 'Gross Profit', 'TTM': '16,160,000.00', '12/31/2023': '16,438,000.00', '12/31/2022': '14,028,000.00', '12/31/2021': '17,164,000.00', '12/31/2020': '5,785,000.00'}\n",
      "{'Breakdown': 'Operating Expense', 'TTM': '10,702,000.00', '12/31/2023': '11,915,000.00', '12/31/2022': '10,285,000.00', '12/31/2021': '10,888,000.00', '12/31/2020': '10,193,000.00'}\n",
      "{'Breakdown': 'Operating Income', 'TTM': '5,458,000.00', '12/31/2023': '4,523,000.00', '12/31/2022': '3,743,000.00', '12/31/2021': '6,276,000.00', '12/31/2020': '-4,408,000.00'}\n",
      "{'Breakdown': 'Net Non Operating Interest Income Expense', 'TTM': '249,000.00', '12/31/2023': '-1,542,000.00', '12/31/2022': '363,000.00', '12/31/2021': '-643,000.00', '12/31/2020': '-1,199,000.00'}\n",
      "{'Breakdown': 'Other Income Expense', 'TTM': '-1,740,000.00', '12/31/2023': '14,799,000.00', '12/31/2022': '-1,054,000.00', '12/31/2021': '-8,649,000.00', '12/31/2020': '4,491,000.00'}\n",
      "{'Breakdown': 'Pretax Income', 'TTM': '3,967,000.00', '12/31/2023': '17,780,000.00', '12/31/2022': '3,052,000.00', '12/31/2021': '-3,016,000.00', '12/31/2020': '-1,116,000.00'}\n",
      "{'Breakdown': 'Tax Provision', 'TTM': '-362,000.00', '12/31/2023': '-130,000.00', '12/31/2022': '-488,000.00', '12/31/2021': '-864,000.00', '12/31/2020': '160,000.00'}\n",
      "{'Breakdown': 'Net Income Common Stockholders', 'TTM': '4,347,000.00', '12/31/2023': '17,937,000.00', '12/31/2022': '3,529,000.00', '12/31/2021': '-1,981,000.00', '12/31/2020': '-1,279,000.00'}\n",
      "{'Breakdown': 'Diluted NI Available to Com Stockholders', 'TTM': '4,347,000.00', '12/31/2023': '17,937,000.00', '12/31/2022': '3,529,000.00', '12/31/2021': '-1,981,000.00', '12/31/2020': '-1,279,000.00'}\n",
      "{'Breakdown': 'Basic EPS', 'TTM': '1.09', '12/31/2023': '4.49', '12/31/2022': '0.89', '12/31/2021': '-0.49', '12/31/2020': '-0.32'}\n",
      "{'Breakdown': 'Diluted EPS', 'TTM': '1.08', '12/31/2023': '4.45', '12/31/2022': '0.88', '12/31/2021': '-0.49', '12/31/2020': '-0.32'}\n",
      "{'Breakdown': 'Basic Average Shares', 'TTM': '3,998,000.00', '12/31/2023': '3,991,000.00', '12/31/2022': '3,983,750.00', '12/31/2021': '4,014,000.00', '12/31/2020': '3,973,000.00'}\n",
      "{'Breakdown': 'Diluted Average Shares', 'TTM': '4,041,000.00', '12/31/2023': '4,034,000.00', '12/31/2022': '4,026,000.00', '12/31/2021': '4,056,000.00', '12/31/2020': '3,973,000.00'}\n",
      "{'Breakdown': 'Total Operating Income as Reported', 'TTM': '5,458,000.00', '12/31/2023': '4,523,000.00', '12/31/2022': '3,743,000.00', '12/31/2021': '6,276,000.00', '12/31/2020': '-4,408,000.00'}\n",
      "{'Breakdown': 'Total Expenses', 'TTM': '170,733,000.00', '12/31/2023': '131,818,000.00', '12/31/2022': '179,000,000.00', '12/31/2021': '151,781,000.00', '12/31/2020': '131,552,000.00'}\n",
      "{'Breakdown': 'Net Income from Continuing & Discontinued Operation', 'TTM': '4,347,000.00', '12/31/2023': '17,937,000.00', '12/31/2022': '3,529,000.00', '12/31/2021': '-1,981,000.00', '12/31/2020': '-1,279,000.00'}\n",
      "{'Breakdown': 'Normalized Income', 'TTM': '4,508,950.00', '12/31/2023': '12,493,390.00', '12/31/2022': '3,562,970.00', '12/31/2021': '3,473,246.00', '12/31/2020': '-1,515,520.00'}\n",
      "{'Breakdown': 'Interest Income', 'TTM': '1,567,000.00', '12/31/2023': '261,000.00', '12/31/2022': '1,577,000.00', '12/31/2021': '639,000.00', '12/31/2020': '452,000.00'}\n",
      "{'Breakdown': 'Interest Expense', 'TTM': '1,318,000.00', '12/31/2023': '1,803,000.00', '12/31/2022': '1,214,000.00', '12/31/2021': '1,282,000.00', '12/31/2020': '1,651,000.00'}\n",
      "{'Breakdown': 'Net Interest Income', 'TTM': '249,000.00', '12/31/2023': '-1,542,000.00', '12/31/2022': '363,000.00', '12/31/2021': '-643,000.00', '12/31/2020': '-1,199,000.00'}\n",
      "{'Breakdown': 'EBIT', 'TTM': '5,285,000.00', '12/31/2023': '19,583,000.00', '12/31/2022': '4,266,000.00', '12/31/2021': '-1,734,000.00', '12/31/2020': '535,000.00'}\n",
      "{'Breakdown': 'EBITDA', 'TTM': '11,808,000.00', '12/31/2023': '25,543,000.00', '12/31/2022': '10,381,000.00', '12/31/2021': '4,759,000.00', '12/31/2020': '7,992,000.00'}\n",
      "{'Breakdown': 'Reconciled Cost of Revenue', 'TTM': '160,031,000.00', '12/31/2023': '119,903,000.00', '12/31/2022': '168,715,000.00', '12/31/2021': '140,893,000.00', '12/31/2020': '121,359,000.00'}\n",
      "{'Breakdown': 'Reconciled Depreciation', 'TTM': '6,523,000.00', '12/31/2023': '5,960,000.00', '12/31/2022': '6,115,000.00', '12/31/2021': '6,493,000.00', '12/31/2020': '7,457,000.00'}\n",
      "{'Breakdown': 'Net Income from Continuing Operation Net Minority Interest', 'TTM': '4,347,000.00', '12/31/2023': '17,937,000.00', '12/31/2022': '3,529,000.00', '12/31/2021': '-1,981,000.00', '12/31/2020': '-1,279,000.00'}\n",
      "{'Breakdown': 'Total Unusual Items Excluding Goodwill', 'TTM': '-205,000.00', '12/31/2023': '7,457,000.00', '12/31/2022': '-43,000.00', '12/31/2021': '-7,639,000.00', '12/31/2020': '324,000.00'}\n",
      "{'Breakdown': 'Total Unusual Items', 'TTM': '-205,000.00', '12/31/2023': '7,457,000.00', '12/31/2022': '-43,000.00', '12/31/2021': '-7,639,000.00', '12/31/2020': '324,000.00'}\n",
      "{'Breakdown': 'Normalized EBITDA', 'TTM': '12,013,000.00', '12/31/2023': '18,086,000.00', '12/31/2022': '10,424,000.00', '12/31/2021': '12,398,000.00', '12/31/2020': '7,668,000.00'}\n",
      "{'Breakdown': 'Tax Rate for Calcs', 'TTM': '0.00', '12/31/2023': '0.00', '12/31/2022': '0.00', '12/31/2021': '0.00', '12/31/2020': '0.00'}\n",
      "{'Breakdown': 'Tax Effect of Unusual Items', 'TTM': '-43,050.00', '12/31/2023': '2,013,390.00', '12/31/2022': '-9,030.00', '12/31/2021': '-2,184,754.00', '12/31/2020': '87,480.00'}\n"
     ]
    }
   ],
   "source": [
    "for entry in data:\n",
    "    print(entry)"
   ]
  },
  {
   "cell_type": "code",
   "execution_count": 8,
   "metadata": {},
   "outputs": [
    {
     "name": "stdout",
     "output_type": "stream",
     "text": [
      "Data has been successfully saved to financial_data.json\n"
     ]
    }
   ],
   "source": [
    "output_file = \"financial_data.json\"\n",
    "with open(output_file, \"w\") as json_file:\n",
    "    json.dump(data, json_file, indent=4)\n",
    "\n",
    "print(f\"Data has been successfully saved to {output_file}\")"
   ]
  },
  {
   "cell_type": "code",
   "execution_count": 9,
   "metadata": {},
   "outputs": [
    {
     "name": "stdout",
     "output_type": "stream",
     "text": [
      "Data has been successfully saved to financial_data.csv\n"
     ]
    }
   ],
   "source": [
    "output_file = \"financial_data.csv\"\n",
    "\n",
    "# Writing to CSV\n",
    "with open(output_file, mode='w', newline='', encoding='utf-8') as csv_file:\n",
    "    writer = csv.DictWriter(csv_file, fieldnames=data[0].keys())\n",
    "    writer.writeheader()  # Write the header row\n",
    "    writer.writerows(data)  # Write the data rows\n",
    "\n",
    "print(f\"Data has been successfully saved to {output_file}\")"
   ]
  },
  {
   "cell_type": "markdown",
   "metadata": {},
   "source": [
    "Finance Balance sheet"
   ]
  },
  {
   "cell_type": "code",
   "execution_count": 7,
   "metadata": {},
   "outputs": [
    {
     "name": "stdout",
     "output_type": "stream",
     "text": [
      "https://finance.yahoo.com/quote/F/balance-sheet?p=F\n"
     ]
    }
   ],
   "source": [
    "print(url_financials_balance.format(stock, stock))"
   ]
  },
  {
   "cell_type": "code",
   "execution_count": 12,
   "metadata": {},
   "outputs": [
    {
     "name": "stdout",
     "output_type": "stream",
     "text": [
      "200\n"
     ]
    }
   ],
   "source": [
    "response_balance = requests.get(url_financials_balance.format(stock, stock),headers=headers)\n",
    "print(response_balance.status_code)\n",
    "soup = BeautifulSoup(response_balance.text, 'html.parser')\n",
    "table = soup.find('div', {'class': 'tableBody yf-9ft13'})\n",
    "\n",
    "row = soup.find('div', {'class': 'row yf-1yyu1pc'})\n",
    "header = [div.get_text(strip=True) for div in row.find_all('div')]\n",
    "\n",
    "data_balance = []\n",
    "for row in table.find_all('div', {'class': 'row lv-0 yf-t22klz'}):\n",
    "    row_data = {}\n",
    "    columns1 = row.find_all('div', {'class': 'column yf-t22klz'})\n",
    "\n",
    "    columns2 = row.find_all('div', {'class': 'column yf-t22klz alt'})\n",
    "\n",
    "    columns = columns1 + columns2\n",
    "    \n",
    "    # Extract the text for each row\n",
    "    row_data[header[0]] = row.find('div', {'class': 'rowTitle yf-t22klz'}).get_text(strip=True)\n",
    "    for i, column in enumerate(columns):\n",
    "        row_data[header[i+1]] = column.get_text(strip=True)\n",
    "    \n",
    "    data_balance.append(row_data)"
   ]
  },
  {
   "cell_type": "code",
   "execution_count": 13,
   "metadata": {},
   "outputs": [
    {
     "name": "stdout",
     "output_type": "stream",
     "text": [
      "{'Breakdown': 'Total Assets', '12/31/2023': '255,884,000.00', '12/31/2022': '267,261,000.00', '12/31/2021': '273,310,000.00', '12/31/2020': '257,035,000.00'}\n",
      "{'Breakdown': 'Total Liabilities Net Minority Interest', '12/31/2023': '212,717,000.00', '12/31/2022': '236,450,000.00', '12/31/2021': '230,512,000.00', '12/31/2020': '208,413,000.00'}\n",
      "{'Breakdown': 'Total Equity Gross Minority Interest', '12/31/2023': '43,167,000.00', '12/31/2022': '30,811,000.00', '12/31/2021': '42,798,000.00', '12/31/2020': '48,622,000.00'}\n",
      "{'Breakdown': 'Total Capitalization', '12/31/2023': '132,047,000.00', '12/31/2022': '141,031,000.00', '12/31/2021': '142,335,000.00', '12/31/2020': '136,919,000.00'}\n",
      "{'Breakdown': 'Common Stock Equity', '12/31/2023': '43,242,000.00', '12/31/2022': '30,690,000.00', '12/31/2021': '42,773,000.00', '12/31/2020': '48,519,000.00'}\n",
      "{'Breakdown': 'Capital Lease Obligations', '12/31/2023': '1,505,000.00', '12/31/2022': '1,314,000.00', '12/31/2021': '1,876,000.00', '12/31/2020': '1,393,000.00'}\n",
      "{'Breakdown': 'Net Tangible Assets', '12/31/2023': '43,242,000.00', '12/31/2022': '30,690,000.00', '12/31/2021': '42,773,000.00', '12/31/2020': '48,519,000.00'}\n",
      "{'Breakdown': 'Working Capital', '12/31/2023': '19,610,000.00', '12/31/2022': '19,552,000.00', '12/31/2021': '19,950,000.00', '12/31/2020': '18,269,000.00'}\n",
      "{'Breakdown': 'Invested Capital', '12/31/2023': '182,211,000.00', '12/31/2022': '192,374,000.00', '12/31/2021': '192,004,000.00', '12/31/2020': '186,611,000.00'}\n",
      "{'Breakdown': 'Tangible Book Value', '12/31/2023': '43,242,000.00', '12/31/2022': '30,690,000.00', '12/31/2021': '42,773,000.00', '12/31/2020': '48,519,000.00'}\n",
      "{'Breakdown': 'Total Debt', '12/31/2023': '140,474,000.00', '12/31/2022': '162,998,000.00', '12/31/2021': '151,107,000.00', '12/31/2020': '139,485,000.00'}\n",
      "{'Breakdown': 'Net Debt', '12/31/2023': '113,835,000.00', '12/31/2022': '136,441,000.00', '12/31/2021': '124,369,000.00', '12/31/2020': '117,552,000.00'}\n",
      "{'Breakdown': 'Share Issued', '12/31/2023': '3,999,960.12', '12/31/2022': '4,096,000.00', '12/31/2021': '3,999,960.12', '12/31/2020': '4,121,000.00'}\n",
      "{'Breakdown': 'Ordinary Shares Number', '12/31/2023': '3,999,960.12', '12/31/2022': '4,096,000.00', '12/31/2021': '3,999,960.12', '12/31/2020': '4,121,000.00'}\n"
     ]
    }
   ],
   "source": [
    "for row in data_balance:\n",
    "    print(row)"
   ]
  },
  {
   "cell_type": "code",
   "execution_count": 14,
   "metadata": {},
   "outputs": [
    {
     "name": "stdout",
     "output_type": "stream",
     "text": [
      "Data has been successfully saved to financial_balance_data.json\n"
     ]
    }
   ],
   "source": [
    "output_file = \"financial_balance_data.json\"\n",
    "with open(output_file, \"w\") as json_file:\n",
    "    json.dump(data_balance, json_file, indent=4)\n",
    "\n",
    "print(f\"Data has been successfully saved to {output_file}\")"
   ]
  },
  {
   "cell_type": "code",
   "execution_count": 22,
   "metadata": {},
   "outputs": [
    {
     "name": "stdout",
     "output_type": "stream",
     "text": [
      "Data has been successfully saved to financial_balance_data.csv\n"
     ]
    }
   ],
   "source": [
    "output_file = \"financial_balance_data.csv\"\n",
    "\n",
    "# Writing to CSV\n",
    "with open(output_file, mode='w', newline='', encoding='utf-8') as csv_file:\n",
    "    writer = csv.DictWriter(csv_file, fieldnames=data_balance[0].keys())\n",
    "    writer.writeheader()  # Write the header row\n",
    "    writer.writerows(data_balance)  # Write the data rows\n",
    "\n",
    "print(f\"Data has been successfully saved to {output_file}\")"
   ]
  },
  {
   "cell_type": "markdown",
   "metadata": {},
   "source": [
    "Finance cash-flow"
   ]
  },
  {
   "cell_type": "code",
   "execution_count": 16,
   "metadata": {},
   "outputs": [
    {
     "name": "stdout",
     "output_type": "stream",
     "text": [
      "200\n"
     ]
    }
   ],
   "source": [
    "response_cashflow = requests.get(url_financials_cashflow.format(stock, stock),headers=headers)\n",
    "print(response_cashflow.status_code)\n",
    "soup = BeautifulSoup(response_cashflow.text, 'html.parser')\n",
    "table = soup.find('div', {'class': 'tableBody yf-9ft13'})\n",
    "\n",
    "row = soup.find('div', {'class': 'row yf-1yyu1pc'})\n",
    "header = [div.get_text(strip=True) for div in row.find_all('div')]\n",
    "\n",
    "data_cashflow = []\n",
    "for row in table.find_all('div', {'class': 'row lv-0 yf-t22klz'}):\n",
    "    row_data = {}\n",
    "    columns1 = row.find_all('div', {'class': 'column yf-t22klz'})\n",
    "\n",
    "    columns2 = row.find_all('div', {'class': 'column yf-t22klz alt'})\n",
    "\n",
    "    columns = columns1 + columns2\n",
    "    \n",
    "    # Extract the text for each row\n",
    "    row_data[header[0]] = row.find('div', {'class': 'rowTitle yf-t22klz'}).get_text(strip=True)\n",
    "    for i, column in enumerate(columns):\n",
    "        row_data[header[i+1]] = column.get_text(strip=True)\n",
    "    \n",
    "    data_cashflow.append(row_data)"
   ]
  },
  {
   "cell_type": "code",
   "execution_count": 18,
   "metadata": {},
   "outputs": [
    {
     "name": "stdout",
     "output_type": "stream",
     "text": [
      "Data has been successfully saved to financial_cashflow_data.json\n"
     ]
    }
   ],
   "source": [
    "output_file = \"financial_cashflow_data.json\"\n",
    "with open(output_file, \"w\") as json_file:\n",
    "    json.dump(data_cashflow, json_file, indent=4)\n",
    "\n",
    "print(f\"Data has been successfully saved to {output_file}\")"
   ]
  },
  {
   "cell_type": "code",
   "execution_count": 23,
   "metadata": {},
   "outputs": [
    {
     "name": "stdout",
     "output_type": "stream",
     "text": [
      "Data has been successfully saved to financial_cashflow_data.csv\n"
     ]
    }
   ],
   "source": [
    "output_file = \"financial_cashflow_data.csv\"\n",
    "\n",
    "# Writing to CSV\n",
    "with open(output_file, mode='w', newline='', encoding='utf-8') as csv_file:\n",
    "    writer = csv.DictWriter(csv_file, fieldnames=data_cashflow[0].keys())\n",
    "    writer.writeheader()  # Write the header row\n",
    "    writer.writerows(data_cashflow)  # Write the data rows\n",
    "\n",
    "print(f\"Data has been successfully saved to {output_file}\")"
   ]
  },
  {
   "cell_type": "code",
   "execution_count": 21,
   "metadata": {},
   "outputs": [
    {
     "name": "stdout",
     "output_type": "stream",
     "text": [
      "{'Breakdown': 'Operating Cash Flow', 'TTM': '14,918,000.00', '12/31/2023': '15,787,000.00', '12/31/2022': '14,887,000.00', '12/31/2021': '6,853,000.00', '12/31/2020': '24,269,000.00'}\n",
      "{'Breakdown': 'Investing Cash Flow', 'TTM': '-17,628,000.00', '12/31/2023': '2,745,000.00', '12/31/2022': '-24,918,000.00', '12/31/2021': '-4,347,000.00', '12/31/2020': '-18,615,000.00'}\n",
      "{'Breakdown': 'Financing Cash Flow', 'TTM': '2,584,000.00', '12/31/2023': '-23,498,000.00', '12/31/2022': '7,078,000.00', '12/31/2021': '2,511,000.00', '12/31/2020': '2,315,000.00'}\n",
      "{'Breakdown': 'End Cash Position', 'TTM': '25,110,000.00', '12/31/2023': '20,737,000.00', '12/31/2022': '23,681,000.00', '12/31/2021': '25,340,000.00', '12/31/2020': '25,935,000.00'}\n",
      "{'Breakdown': 'Capital Expenditure', 'TTM': '-8,236,000.00', '12/31/2023': '-6,227,000.00', '12/31/2022': '-8,481,000.00', '12/31/2021': '-6,866,000.00', '12/31/2020': '-5,742,000.00'}\n",
      "{'Breakdown': 'Issuance of Debt', 'TTM': '51,659,000.00', '12/31/2023': '27,901,000.00', '12/31/2022': '58,656,000.00', '12/31/2021': '45,470,000.00', '12/31/2020': '65,900,000.00'}\n",
      "{'Breakdown': 'Repayment of Debt', 'TTM': '-41,965,000.00', '12/31/2023': '-54,164,000.00', '12/31/2022': '-45,709,000.00', '12/31/2021': '-45,655,000.00', '12/31/2020': '-60,514,000.00'}\n",
      "{'Breakdown': 'Repurchase of Capital Stock', 'TTM': '-335,000.00', '12/31/2023': '--', '12/31/2022': '-611,000.00', '12/31/2021': '-484,000.00', '12/31/2020': '--'}\n",
      "{'Breakdown': 'Free Cash Flow', 'TTM': '6,682,000.00', '12/31/2023': '9,560,000.00', '12/31/2022': '6,406,000.00', '12/31/2021': '-13,000.00', '12/31/2020': '18,527,000.00'}\n"
     ]
    }
   ],
   "source": [
    "for row in data_cashflow:\n",
    "    print(row)"
   ]
  },
  {
   "cell_type": "code",
   "execution_count": null,
   "metadata": {},
   "outputs": [],
   "source": []
  },
  {
   "cell_type": "code",
   "execution_count": 4,
   "metadata": {},
   "outputs": [
    {
     "name": "stdout",
     "output_type": "stream",
     "text": [
      "200\n"
     ]
    }
   ],
   "source": [
    "response_statistics = requests.get(url_stats.format(stock, stock),headers=headers)\n",
    "print(response_statistics.status_code)\n",
    "soup = BeautifulSoup(response_statistics.text, 'html.parser')\n",
    "\n",
    "table = soup.find('table', {'class': 'table yf-kbx2lo'})\n",
    "\n",
    "headers = [header.get_text(strip=True) for header in table.find_all('th')]\n",
    "\n",
    "stat_data=[]\n",
    "\n",
    "for row in table.find_all('tr')[1:]:\n",
    "    columns = row.find_all('td')\n",
    "    \n",
    "    if len(columns)>0:\n",
    "        data ={\n",
    "            \"Name\": columns[0].get_text(strip=True),\n",
    "            headers[1]: columns[1].get_text(strip=True),\n",
    "            headers[2]: columns[2].get_text(strip=True),\n",
    "            headers[3]: columns[3].get_text(strip=True),\n",
    "            headers[4]: columns[4].get_text(strip=True)\n",
    "        }\n",
    "        stat_data.append(data)"
   ]
  },
  {
   "cell_type": "code",
   "execution_count": 5,
   "metadata": {},
   "outputs": [
    {
     "name": "stdout",
     "output_type": "stream",
     "text": [
      "{'Name': 'Market Cap', 'Current': '39.35B', '9/30/2024': '41.98B', '6/30/2024': '50.06B', '3/31/2024': '52.77B'}\n",
      "{'Name': 'Enterprise Value', 'Current': '161.46B', '9/30/2024': '160.31B', '6/30/2024': '167.02B', '3/31/2024': '163.71B'}\n",
      "{'Name': 'Trailing P/E', 'Current': '10.97', '9/30/2024': '11.00', '6/30/2024': '12.93', '3/31/2024': '12.30'}\n",
      "{'Name': 'Forward P/E', 'Current': '5.48', '9/30/2024': '5.33', '6/30/2024': '6.06', '3/31/2024': '7.22'}\n",
      "{'Name': 'PEG Ratio (5yr expected)', 'Current': '0.55', '9/30/2024': '0.57', '6/30/2024': '0.66', '3/31/2024': '0.78'}\n",
      "{'Name': 'Price/Sales', 'Current': '0.21', '9/30/2024': '0.24', '6/30/2024': '0.29', '3/31/2024': '0.30'}\n",
      "{'Name': 'Price/Book', 'Current': '0.87', '9/30/2024': '0.96', '6/30/2024': '1.17', '3/31/2024': '1.23'}\n",
      "{'Name': 'Enterprise Value/Revenue', 'Current': '0.88', '9/30/2024': '0.89', '6/30/2024': '0.94', '3/31/2024': '0.93'}\n",
      "{'Name': 'Enterprise Value/EBITDA', 'Current': '15.46', '9/30/2024': '14.36', '6/30/2024': '15.02', '3/31/2024': '13.86'}\n"
     ]
    }
   ],
   "source": [
    "for row in stat_data:\n",
    "    print(row)"
   ]
  },
  {
   "cell_type": "code",
   "execution_count": null,
   "metadata": {},
   "outputs": [],
   "source": []
  },
  {
   "cell_type": "code",
   "execution_count": null,
   "metadata": {},
   "outputs": [],
   "source": []
  },
  {
   "cell_type": "code",
   "execution_count": null,
   "metadata": {},
   "outputs": [],
   "source": []
  }
 ],
 "metadata": {
  "kernelspec": {
   "display_name": "scrap",
   "language": "python",
   "name": "python3"
  },
  "language_info": {
   "codemirror_mode": {
    "name": "ipython",
    "version": 3
   },
   "file_extension": ".py",
   "mimetype": "text/x-python",
   "name": "python",
   "nbconvert_exporter": "python",
   "pygments_lexer": "ipython3",
   "version": "3.10.16"
  }
 },
 "nbformat": 4,
 "nbformat_minor": 2
}
